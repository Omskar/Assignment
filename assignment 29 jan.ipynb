{
 "cells": [
  {
   "cell_type": "code",
   "execution_count": null,
   "id": "43c40730-da97-49a1-a615-8bd06425c94d",
   "metadata": {},
   "outputs": [],
   "source": [
    "1---python programming languagde was developed by Guido van Rossum\n",
    "2---python supports multiple programming pradgrims including structured,object oriented and functional programming\n",
    "3---yes python is case sensitive with identifiers as for python (Name) and (name) are two different variables  \n",
    "4---python file has differnt extensions like .py,.pyc.pyo.pyd and the one we are using .ipynb each of its extension are differnt.\n",
    "    .py used for the input source code we have written \n",
    "    .pyc used for making impoering easier,is also python compiler\n",
    "    .pyd is a windows dll file for python \n",
    "    .pyo is a pyc file created during optimization\n",
    "5---python language is first compiled and then interpreted.\n",
    "6---in python language we use variables and functions and input for programming this are the building blocks of coding\n",
    "7---# is used to give single line comment in python.\n",
    "8---we can determine the python version by\n",
    "          : using syetem.version method\n",
    "          : using python_version()function\n",
    "9---python supports the creation of anonymous function at runtime using a construct called lambda.\n",
    "    lambda function is restricted to a single variable and can be used wherever normal functions can be used \n",
    "10---PIP stands for Pip Install packages and is installs software packages \n",
    "11---built in functions are float(), input(),int(),type() \n",
    "12--- maximum possible length of identifier in python is of 79 character\n",
    "13--- easy to use\n",
    "      interpreted language\n",
    "      improved productivity \n",
    "      dynamically typed \n",
    "      free and open source \n",
    "      portability\n",
    "14---the memory allocation and deallocation is automatic as python developers created a garbage\n",
    "     collector so that the user do not have to do the manual garbage collection    \n",
    "15---firstlydownload the python install it and then go to \n",
    "     The complete path of python.exe can be added by:\n",
    "      Right-clicking This PC and going to Properties.\n",
    "      Clicking on the Advanced system settings in the menu on the left.\n",
    "      Clicking on the Environment Variables button o​n the bottom right.\n",
    "      In the System variables section, selecting the Path variable and clicking on Edit. \n",
    "      The next screen will show all the directories that are currently a part of the PATH variable.\n",
    "      Clicking on New and entering Python’s install directory.\n",
    "16---yes identation is required in python because without proper identation we will get identation error and code will not run.        \n",
    "    "
   ]
  },
  {
   "cell_type": "code",
   "execution_count": null,
   "id": "9ca62e28-779c-4366-954d-c3ffa199f193",
   "metadata": {},
   "outputs": [],
   "source": []
  }
 ],
 "metadata": {
  "kernelspec": {
   "display_name": "Python 3 (ipykernel)",
   "language": "python",
   "name": "python3"
  },
  "language_info": {
   "codemirror_mode": {
    "name": "ipython",
    "version": 3
   },
   "file_extension": ".py",
   "mimetype": "text/x-python",
   "name": "python",
   "nbconvert_exporter": "python",
   "pygments_lexer": "ipython3",
   "version": "3.10.8"
  }
 },
 "nbformat": 4,
 "nbformat_minor": 5
}
