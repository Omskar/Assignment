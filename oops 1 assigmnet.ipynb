{
 "cells": [
  {
   "cell_type": "raw",
   "id": "082a0054-7ed1-4466-b23d-e51911e8ed1e",
   "metadata": {},
   "source": [
    "1:: class is a blueprint of code and it help in making code more structured \n",
    "and and easy to interpret and makes multiple module classification simpler\n",
    "\n",
    "object is the what we create so that it is becomes a defined function belonging to the slef created class \n",
    " example\n",
    " "
   ]
  },
  {
   "cell_type": "code",
   "execution_count": 4,
   "id": "68e03927-f84b-46a3-9f42-b4b4e6deec50",
   "metadata": {},
   "outputs": [],
   "source": [
    "class sanskar :\n",
    "    def study(self):\n",
    "        print(\"i will study coding\")"
   ]
  },
  {
   "cell_type": "code",
   "execution_count": 5,
   "id": "1ad14d88-765b-4a30-8355-9260f8ee717e",
   "metadata": {},
   "outputs": [],
   "source": [
    "sai=sanskar()\n"
   ]
  },
  {
   "cell_type": "code",
   "execution_count": 6,
   "id": "795ed762-5387-4c55-8fda-73e3f7b6c0f5",
   "metadata": {},
   "outputs": [
    {
     "name": "stdout",
     "output_type": "stream",
     "text": [
      "i will study coding\n"
     ]
    }
   ],
   "source": [
    "sai.study()"
   ]
  },
  {
   "cell_type": "raw",
   "id": "0939cc9d-3b79-4e7b-bc58-777642fe16ea",
   "metadata": {},
   "source": [
    "in this example we created a class named sanskar and the object we created is sai\n",
    "\n"
   ]
  },
  {
   "cell_type": "raw",
   "id": "24a2520c-ae18-43ae-88e2-737e6f49d51d",
   "metadata": {},
   "source": [
    "2:: ths four pillar of oops in python are\n",
    "abstraction,\n",
    "polymorphism,\n",
    "inheritance,\n",
    "encapsulation."
   ]
  },
  {
   "cell_type": "raw",
   "id": "f74af811-c659-4058-8300-d5af975b1f4a",
   "metadata": {},
   "source": [
    "3:: the __init__() function is used so as the entered data get get assigned to the method  in the class as class must be defined for any number of differnt inputs so this function is used to allow any number of objects to be assigned in the class .that is it creates flexibility in code and allow to create more objects according to prefernce\n",
    "example"
   ]
  },
  {
   "cell_type": "code",
   "execution_count": 7,
   "id": "19d9a31e-5194-490c-b18d-d199aec34018",
   "metadata": {},
   "outputs": [],
   "source": [
    "class sanskar :\n",
    "    def __init__(self,college,branch):\n",
    "        self.college=college\n",
    "        self.branch=branch\n",
    "    def return_details(self):\n",
    "        return self.college,self.branch\n",
    "    "
   ]
  },
  {
   "cell_type": "code",
   "execution_count": 10,
   "id": "4489803d-5a7b-4aca-8df6-b2de39581c21",
   "metadata": {},
   "outputs": [],
   "source": [
    "sanskari=sanskar(\"IIT Guwahati\",\"ChemicalEngineering\")"
   ]
  },
  {
   "cell_type": "code",
   "execution_count": 11,
   "id": "6127d16a-2b42-445f-88eb-31f82b2109ee",
   "metadata": {},
   "outputs": [
    {
     "data": {
      "text/plain": [
       "'IIT Guwahati'"
      ]
     },
     "execution_count": 11,
     "metadata": {},
     "output_type": "execute_result"
    }
   ],
   "source": [
    "sanskari.college"
   ]
  },
  {
   "cell_type": "code",
   "execution_count": 13,
   "id": "d7a9ee89-974c-49e9-b8bf-dd34434306cc",
   "metadata": {},
   "outputs": [
    {
     "data": {
      "text/plain": [
       "'ChemicalEngineering'"
      ]
     },
     "execution_count": 13,
     "metadata": {},
     "output_type": "execute_result"
    }
   ],
   "source": [
    "sanskari.branch\n"
   ]
  },
  {
   "cell_type": "code",
   "execution_count": 14,
   "id": "78d5532a-cdbe-47c9-8b6c-7118c8e5a958",
   "metadata": {},
   "outputs": [
    {
     "data": {
      "text/plain": [
       "('IIT Guwahati', 'ChemicalEngineering')"
      ]
     },
     "execution_count": 14,
     "metadata": {},
     "output_type": "execute_result"
    }
   ],
   "source": [
    "sanskari.return_details()"
   ]
  },
  {
   "cell_type": "raw",
   "id": "a5305fca-3f93-4aae-88c9-db1a318e9eca",
   "metadata": {},
   "source": [
    "4:: self is used in OOPS because it act as a pointer and assigns the data to method within the class and it is also a object and it is not mandatory to use only self we can use any other object in place of it ."
   ]
  },
  {
   "cell_type": "code",
   "execution_count": null,
   "id": "75ed1e67-9acb-4bf4-b34f-90ab85139a7e",
   "metadata": {},
   "outputs": [],
   "source": []
  },
  {
   "cell_type": "raw",
   "id": "1a66ead8-43d0-41ef-9ea9-69b57f3dc2a4",
   "metadata": {},
   "source": [
    "5:the process through which properties of one class gets inherited in any other class is called inheritance.\n",
    "two type of inheritance \n",
    "multilable inheritance\n",
    "multiple inheritance\n"
   ]
  },
  {
   "cell_type": "raw",
   "id": "47268663-e974-45db-bdad-0910bb30ede0",
   "metadata": {},
   "source": [
    "multilable inheritance"
   ]
  },
  {
   "cell_type": "code",
   "execution_count": 5,
   "id": "f3ca5415-3e8a-4bad-a185-7c1ab884421d",
   "metadata": {},
   "outputs": [],
   "source": [
    "class book1:\n",
    "    def harry_potter(self):\n",
    "        return\"goblet of fire\""
   ]
  },
  {
   "cell_type": "code",
   "execution_count": 6,
   "id": "67de8950-14be-4a1e-8c75-81f548cf069b",
   "metadata": {},
   "outputs": [],
   "source": [
    "class book2(book1):\n",
    "    def percy_jackson(self):\n",
    "        return\"sea of monster\""
   ]
  },
  {
   "cell_type": "code",
   "execution_count": 8,
   "id": "60588e3e-ee68-4ce2-bdcf-44a5ab3c9790",
   "metadata": {},
   "outputs": [],
   "source": [
    "class librabry(book2):\n",
    "    pass\n"
   ]
  },
  {
   "cell_type": "code",
   "execution_count": 9,
   "id": "dea1b18d-76e9-4f54-abae-b4785a40d647",
   "metadata": {},
   "outputs": [],
   "source": [
    "student=librabry()"
   ]
  },
  {
   "cell_type": "code",
   "execution_count": 10,
   "id": "8228150c-ee3d-444f-8029-95c9447da2ac",
   "metadata": {},
   "outputs": [
    {
     "data": {
      "text/plain": [
       "'goblet of fire'"
      ]
     },
     "execution_count": 10,
     "metadata": {},
     "output_type": "execute_result"
    }
   ],
   "source": [
    "student.harry_potter()"
   ]
  },
  {
   "cell_type": "code",
   "execution_count": 11,
   "id": "eb3f616d-0505-4413-9419-1eec29b1c045",
   "metadata": {},
   "outputs": [
    {
     "data": {
      "text/plain": [
       "'sea of monster'"
      ]
     },
     "execution_count": 11,
     "metadata": {},
     "output_type": "execute_result"
    }
   ],
   "source": [
    "student.percy_jackson()"
   ]
  },
  {
   "cell_type": "raw",
   "id": "f255ada5-2169-42cb-8d2b-f9f1ce0c6e95",
   "metadata": {},
   "source": [
    "multiple inheritance\n",
    "\n"
   ]
  },
  {
   "cell_type": "code",
   "execution_count": 14,
   "id": "33135ade-9c68-4a94-bb45-fc5cd068bc56",
   "metadata": {},
   "outputs": [],
   "source": [
    "class work1:\n",
    "    def software_engineer(self):\n",
    "        return\"my income is above 40 lakhs\""
   ]
  },
  {
   "cell_type": "code",
   "execution_count": 15,
   "id": "cb7771a4-5daa-42ab-8800-f5b379a6581c",
   "metadata": {},
   "outputs": [],
   "source": [
    "class work2:\n",
    "    def data_scientist(self):\n",
    "        return\"my income is above 30 lakhs\""
   ]
  },
  {
   "cell_type": "code",
   "execution_count": 21,
   "id": "32ab397a-6f68-4e3b-ba12-5249b6ccb76d",
   "metadata": {},
   "outputs": [],
   "source": [
    "class employ(work1,work2):\n",
    "    \n",
    "    \n",
    "        pass"
   ]
  },
  {
   "cell_type": "code",
   "execution_count": 22,
   "id": "a2c11ef4-6eb9-44ea-9a1f-35f73c7e149f",
   "metadata": {},
   "outputs": [],
   "source": [
    "sanskar=employ()"
   ]
  },
  {
   "cell_type": "code",
   "execution_count": 26,
   "id": "13c067cb-6cc1-483d-bbb3-022068a428c0",
   "metadata": {},
   "outputs": [
    {
     "data": {
      "text/plain": [
       "'my income is above 30 lakhs'"
      ]
     },
     "execution_count": 26,
     "metadata": {},
     "output_type": "execute_result"
    }
   ],
   "source": [
    "sanskar.data_scientist()"
   ]
  },
  {
   "cell_type": "code",
   "execution_count": 25,
   "id": "4b9f1512-54d2-499f-8096-81e6e3818425",
   "metadata": {},
   "outputs": [
    {
     "data": {
      "text/plain": [
       "'my income is above 40 lakhs'"
      ]
     },
     "execution_count": 25,
     "metadata": {},
     "output_type": "execute_result"
    }
   ],
   "source": [
    "sanskar.software_engineer()\n"
   ]
  },
  {
   "cell_type": "code",
   "execution_count": null,
   "id": "f9ea945a-fe77-4c44-85bf-9cc5cfdabeca",
   "metadata": {},
   "outputs": [],
   "source": []
  }
 ],
 "metadata": {
  "kernelspec": {
   "display_name": "Python 3 (ipykernel)",
   "language": "python",
   "name": "python3"
  },
  "language_info": {
   "codemirror_mode": {
    "name": "ipython",
    "version": 3
   },
   "file_extension": ".py",
   "mimetype": "text/x-python",
   "name": "python",
   "nbconvert_exporter": "python",
   "pygments_lexer": "ipython3",
   "version": "3.10.8"
  }
 },
 "nbformat": 4,
 "nbformat_minor": 5
}
